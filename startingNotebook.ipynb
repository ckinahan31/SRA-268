{
  "nbformat": 4,
  "nbformat_minor": 0,
  "metadata": {
    "colab": {
      "name": "startingNotebook",
      "provenance": []
    },
    "kernelspec": {
      "name": "python3",
      "display_name": "Python 3"
    }
  },
  "cells": [
    {
      "cell_type": "markdown",
      "metadata": {
        "id": "D-uahcUY6FJn",
        "colab_type": "text"
      },
      "source": [
        "**What Month Does it Snow the Most in State College?**"
      ]
    },
    {
      "cell_type": "markdown",
      "metadata": {
        "id": "cWgf41dI6KhS",
        "colab_type": "text"
      },
      "source": [
        "In this notebook, we will use State College weather data given to us to put together a graph. In the graph we will be analyzing and visualizing what month it snows the most in State College. This is useful knowledge for college students so they can prepare ahead of time for the snow."
      ]
    },
    {
      "cell_type": "markdown",
      "metadata": {
        "id": "zqIL8VXL9BR0",
        "colab_type": "text"
      },
      "source": [
        "Table 1.1 (Based on 2017 Weather data)"
      ]
    },
    {
      "cell_type": "markdown",
      "metadata": {
        "id": "J6pjLh6G9Dgo",
        "colab_type": "text"
      },
      "source": [
        "![alt text](https://https://github.com/ckinahan31/SRA-268/blob/master/image/Screen%20Shot%202020-01-23%20at%209.31.24%20AM.png)"
      ]
    },
    {
      "cell_type": "markdown",
      "metadata": {
        "id": "62oAADuEyf4m",
        "colab_type": "text"
      },
      "source": [
        "After creating the table, the data was much easier to analyze quickly. The X axis is marked 1-12 to represent the 12 months of the year. The Y axis is marked 0-0.6 to represent the average inches of snow that month got. Through visualization, I was able to analyze that the month that gets the most snow in State College is March. \n"
      ]
    }
  ]
}