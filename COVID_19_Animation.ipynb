{
  "nbformat": 4,
  "nbformat_minor": 0,
  "metadata": {
    "colab": {
      "name": "COVID-19 Animation",
      "provenance": []
    },
    "kernelspec": {
      "name": "python3",
      "display_name": "Python 3"
    }
  },
  "cells": [
    {
      "cell_type": "markdown",
      "metadata": {
        "id": "okyenKfauL8f",
        "colab_type": "text"
      },
      "source": [
        "**Covid-19 Cases by Country Animation**"
      ]
    },
    {
      "cell_type": "markdown",
      "metadata": {
        "id": "1pxXSp0cuSoP",
        "colab_type": "text"
      },
      "source": [
        "By Christine Kinahan"
      ]
    },
    {
      "cell_type": "markdown",
      "metadata": {
        "id": "s0i2yru1ufUj",
        "colab_type": "text"
      },
      "source": [
        "**Animation from Covid-19 Data as of March 25**"
      ]
    },
    {
      "cell_type": "markdown",
      "metadata": {
        "id": "cBTGV0qruovE",
        "colab_type": "text"
      },
      "source": [
        "![alt text](https://raw.githubusercontent.com/ckinahan31/SRA-268/master/Screen%20Shot%202020-04-03%20at%209.10.39%20PM.png)\n"
      ]
    },
    {
      "cell_type": "markdown",
      "metadata": {
        "id": "wpX3RBMEv1Be",
        "colab_type": "text"
      },
      "source": [
        "**Tableau Link :**"
      ]
    },
    {
      "cell_type": "markdown",
      "metadata": {
        "id": "YdA8t_IWv8Zn",
        "colab_type": "text"
      },
      "source": [
        "[Covid-19 Animation](https://public.tableau.com/profile/christine.kinahan#!/vizhome/Book1_15859621454010/Sheet2)"
      ]
    }
  ]
}